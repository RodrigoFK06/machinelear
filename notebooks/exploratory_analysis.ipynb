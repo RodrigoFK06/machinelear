{
 "cells": [
  {
   "cell_type": "markdown",
   "id": "7883e60e",
   "metadata": {},
   "source": [
    "## Exploratory Analysis\n",
    "Cargamos el dataset y revisamos la distribucion de etiquetas."
   ]
  },
  {
   "cell_type": "code",
   "id": "4a64c5d6",
   "metadata": {
    "ExecuteTime": {
     "end_time": "2025-06-17T21:23:55.142208Z",
     "start_time": "2025-06-17T21:23:54.987094Z"
    }
   },
   "source": [
    "import pandas as pd\n",
    "df = pd.read_csv('../app/legacy/dataset_medico.csv', header=None)\n",
    "df.iloc[:,-1].value_counts()"
   ],
   "outputs": [
    {
     "data": {
      "text/plain": [
       "1470\n",
       "me_duele_la_cabeza    107\n",
       "hola_buenos_dias      103\n",
       "estoy_mareado         101\n",
       "tengo_fiebre_y_tos    100\n",
       "Name: count, dtype: int64"
      ]
     },
     "execution_count": 2,
     "metadata": {},
     "output_type": "execute_result"
    }
   ],
   "execution_count": 2
  }
 ],
 "metadata": {},
 "nbformat": 4,
 "nbformat_minor": 5
}
