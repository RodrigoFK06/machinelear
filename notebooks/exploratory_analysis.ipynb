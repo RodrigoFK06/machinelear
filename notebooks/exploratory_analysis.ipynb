{
 "cells": [
  {
   "cell_type": "markdown",
   "id": "7883e60e",
   "metadata": {},
   "source": [
    "## Exploratory Analysis\n",
    "Cargamos el dataset y revisamos la distribucion de etiquetas."
   ]
  },
  {
   "cell_type": "code",
   "execution_count": null,
   "id": "4a64c5d6",
   "metadata": {},
   "outputs": [],
   "source": [
    "import pandas as pd\n",
    "df = pd.read_csv('../data/dataset_medico.csv', header=None)\n",
    "df.iloc[:,-1].value_counts()"
   ]
  }
 ],
 "metadata": {},
 "nbformat": 4,
 "nbformat_minor": 5
}
