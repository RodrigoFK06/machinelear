{
 "cells": [
  {
   "cell_type": "markdown",
   "id": "17d55553",
   "metadata": {},
   "source": [
    "## Confusion Matrix\n",
    "Graficamos la matriz de confusion"
   ]
  },
  {
   "cell_type": "code",
   "execution_count": null,
   "id": "82bdaad2",
   "metadata": {},
   "outputs": [],
   "source": [
    "import matplotlib.pyplot as plt\n",
    "import matplotlib.image as mpimg\n",
    "img = mpimg.imread('../models/confusion_matrix.png')\n",
    "plt.imshow(img); plt.axis('off');"
   ]
  }
 ],
 "metadata": {
  "language_info": {
   "name": "python"
  }
 },
 "nbformat": 4,
 "nbformat_minor": 5
}
